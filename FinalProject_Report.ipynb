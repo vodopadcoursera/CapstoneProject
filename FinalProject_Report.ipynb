{
 "cells": [
  {
   "cell_type": "markdown",
   "metadata": {},
   "source": [
    "# Capstone Project\n",
    "#### Identifying districts in London that are similar to a chosen New York neighborhood\n",
    "_By Elena Tuchina_"
   ]
  },
  {
   "cell_type": "markdown",
   "metadata": {},
   "source": [
    "### Table of Contents"
   ]
  },
  {
   "cell_type": "markdown",
   "metadata": {},
   "source": [
    "[Business Problem](#Business-Problem)\n",
    "    \n",
    "[Data](#Data)\n",
    "\n",
    "[Methodology](#Methodology)\n",
    "    \n",
    "[Results](#Results)\n",
    "\n",
    "[Discussion](#Discussion)\n",
    "\n",
    "[Conclusion](#Conclusion)"
   ]
  },
  {
   "cell_type": "markdown",
   "metadata": {},
   "source": [
    "***"
   ]
  },
  {
   "cell_type": "markdown",
   "metadata": {},
   "source": [
    "### Business Problem"
   ]
  },
  {
   "cell_type": "markdown",
   "metadata": {},
   "source": [
    "The relocation company that specializes in relocating finance professionals between New York and London needs a tool to help their customers find suitable neighborhoods/districts of the city they are moving to by narrowing down a list of potential areas based on their location preferences in their home city.\n",
    "\n",
    "In most cases, customers are not familiar enough with the city they are moving to, making the process of finding the new living location a time consuming and stressful activity.\n",
    "\n",
    "This process can be greatly facilitated by customers' knowledge of their home city and its areas. By identifying what area(s) in their home city the new location should resemble, the cluster analysis can narrows down the list of the areas to consider to a few that the customer should further research/visit before making final decision.\n",
    "\n",
    "For example, a customer wants to find areas of London that are similar to the neighborhood of Upper West Side in New York where he/she currently live. Cluster analysis would result in a rather short list of London districts that most closely match West Upper Side.\n",
    "\n",
    "The use of the analysis would result in allowing finance professionals to relocate quickly and successfully while staying focused on their professional transition, and with reduced cost for business."
   ]
  },
  {
   "cell_type": "markdown",
   "metadata": {},
   "source": [
    "***"
   ]
  },
  {
   "cell_type": "markdown",
   "metadata": {},
   "source": [
    "### Data"
   ]
  },
  {
   "cell_type": "markdown",
   "metadata": {},
   "source": [
    "New York City neighborhood dataset is taken from New York University Spatial Data Repository (https://geo.nyu.edu/catalog/nyu_2451_34572) and contains the boroughs and the neighborhoods that exist in each borough as well as the the latitude and longitude coordinates of each neighborhood.\n",
    "\n",
    "The London district dataset is created by using information from Wikipedia page (https://en.wikipedia.org/wiki/List_of_areas_of_London) and contains the boroughs and the districts that exist in each borough. Only Inner London boroughs (as per London Government Act 1963) are used in this analysis. The latitude and longitude coordinates for each district were determined using \n",
    "Nominatum geolocator from Geopy library.\n",
    "\n",
    "Foursquare location data is used for information on existing venues in each area of the city. The venues are aggregated by category for further frequency analysis that is served as basis for area comparison and clustering. Only areas where Foursquare database contains information on more than 100 venues were used for analysis due to smaller informational value of distribution analysis for smaller datasets."
   ]
  },
  {
   "cell_type": "markdown",
   "metadata": {},
   "source": [
    "***"
   ]
  },
  {
   "cell_type": "markdown",
   "metadata": {},
   "source": [
    "### Methodology"
   ]
  },
  {
   "cell_type": "markdown",
   "metadata": {},
   "source": [
    "The analysis approach consists of two stages: 1) creating profile for each area, and 2) area segmentation based on their profile similarities.\n",
    "\n",
    "To create area profiles, venue location data provided by Foursquare is obtained for each area from both New York and London datasets, and then aggregated by venue categories. Only areas with at least 100 venues reported are retained for further analysis. Next, aggregated venue data for the target New York neighborhood is added to the the aggregated venue dataset for London. This combined dataset is then converted into  each area profile by calculating the frequency with which various venue categories appear. In other words, the distribution of venue categories in each area serves as that area profile. Using this approach, data in area profile is normalized and allows for direct comparison between areas.\n",
    "\n",
    "In the second stage of analysis, areas were segmented applying k-means clustering method to area profiles. This relatively simple model is fast and sufficient for the complexity of the task at hand, and will allow for adding further dimensions to area profiles in the future."
   ]
  },
  {
   "cell_type": "markdown",
   "metadata": {},
   "source": [
    "***"
   ]
  },
  {
   "cell_type": "markdown",
   "metadata": {},
   "source": [
    "### Results"
   ]
  },
  {
   "cell_type": "markdown",
   "metadata": {},
   "source": [
    "The analysis shows clusters of London districts on the map, with each cluster drawn in a different color. \n",
    "\n",
    "<img src=\"DS-Map.png\">\n",
    "\n",
    "The result represents a list of London districts, most similar to the chosen neighborhood in New York. For example, there are 9 London districts that most resemble Upper West Side in New York (Upper West Side is solely used to illustrate the workings of the code, other neighborhood choices would result in a different list of London areas).\n",
    "\n",
    "<img src=\"DS-Input.png\">\n",
    "\n",
    "<img src=\"DS-Output.png\">"
   ]
  },
  {
   "cell_type": "markdown",
   "metadata": {},
   "source": [
    "***"
   ]
  },
  {
   "cell_type": "markdown",
   "metadata": {},
   "source": [
    "### Discussion"
   ]
  },
  {
   "cell_type": "markdown",
   "metadata": {},
   "source": [
    "The city areas returned by the model represents a narrowed down list that most closely match customer's preferences. This list can now be used to perform in-depth research by the customer and relocation agency to take into account additional criteria and housing availability, followed by customer visit to the area before making final decision."
   ]
  },
  {
   "cell_type": "markdown",
   "metadata": {},
   "source": [
    "***"
   ]
  },
  {
   "cell_type": "markdown",
   "metadata": {},
   "source": [
    "### Conclusion"
   ]
  },
  {
   "cell_type": "markdown",
   "metadata": {},
   "source": [
    "The application of the analysis by the relocation company would result in allowing finance professionals to relocate quickly and successfully while staying focused on their professional transition, and with reduced cost for business.\n",
    "\n",
    "Further steps to improve the model could include incorporation of additional information that enhance the description of areas such as property data, educational (schools, universities, etc) and medical facilities, parks and other recreational centers, crime and safety records, ethnic composition etc."
   ]
  },
  {
   "cell_type": "markdown",
   "metadata": {},
   "source": [
    "***"
   ]
  }
 ],
 "metadata": {
  "kernelspec": {
   "display_name": "Python 3",
   "language": "python",
   "name": "python3"
  },
  "language_info": {
   "codemirror_mode": {
    "name": "ipython",
    "version": 3
   },
   "file_extension": ".py",
   "mimetype": "text/x-python",
   "name": "python",
   "nbconvert_exporter": "python",
   "pygments_lexer": "ipython3",
   "version": "3.6.5"
  }
 },
 "nbformat": 4,
 "nbformat_minor": 2
}
