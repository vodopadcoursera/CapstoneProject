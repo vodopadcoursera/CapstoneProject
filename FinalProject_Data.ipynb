{
 "cells": [
  {
   "cell_type": "markdown",
   "metadata": {},
   "source": [
    "# Capstone Project\n",
    "#### Identifying districts in London that are similar to a chosen New York neighborhood\n",
    "_By Elena Tuchina_"
   ]
  },
  {
   "cell_type": "markdown",
   "metadata": {},
   "source": [
    "***"
   ]
  },
  {
   "cell_type": "markdown",
   "metadata": {},
   "source": [
    "### Data"
   ]
  },
  {
   "cell_type": "markdown",
   "metadata": {},
   "source": [
    "New York City neighborhood dataset is taken from New York University Spatial Data Repository (https://geo.nyu.edu/catalog/nyu_2451_34572) and contains the boroughs and the neighborhoods that exist in each borough as well as the the latitude and longitude coordinates of each neighborhood."
   ]
  },
  {
   "cell_type": "markdown",
   "metadata": {},
   "source": [
    "The London district dataset is created by using information from Wikipedia page (https://en.wikipedia.org/wiki/List_of_areas_of_London) and contains the boroughs and the districts that exist in each borough. Only Inner London boroughs (as per London Government Act 1963) are used in this analysis. The latitude and longitude coordinates for each district were determined using \n",
    "Nominatum geolocator from Geopy library."
   ]
  },
  {
   "cell_type": "markdown",
   "metadata": {},
   "source": [
    "Foursquare location data is used for information on existing venues in each area of the city. The venues are aggregated by category for further frequency analysis that is served as basis for area comparison and clustering. Only areas where Foursquare database contains information on more than 50 venues were used for analysis due to smaller informational value of distribution analysis for smaller datasets."
   ]
  }
 ],
 "metadata": {
  "kernelspec": {
   "display_name": "Python 3",
   "language": "python",
   "name": "python3"
  },
  "language_info": {
   "codemirror_mode": {
    "name": "ipython",
    "version": 3
   },
   "file_extension": ".py",
   "mimetype": "text/x-python",
   "name": "python",
   "nbconvert_exporter": "python",
   "pygments_lexer": "ipython3",
   "version": "3.6.5"
  }
 },
 "nbformat": 4,
 "nbformat_minor": 2
}
