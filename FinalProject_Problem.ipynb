{
 "cells": [
  {
   "cell_type": "markdown",
   "metadata": {},
   "source": [
    "# Capstone Project\n",
    "#### Identifying districts in London that are similar to a chosen New York neighborhood\n",
    "_By Elena Tuchina_"
   ]
  },
  {
   "cell_type": "markdown",
   "metadata": {},
   "source": [
    "***"
   ]
  },
  {
   "cell_type": "markdown",
   "metadata": {},
   "source": [
    "### Business Problem"
   ]
  },
  {
   "cell_type": "markdown",
   "metadata": {},
   "source": [
    "The relocation company that specializes in relocating finance professionals between New York and London needs a tool to help their customers find suitable neighborhoods/districts of the city they are moving to by narrowing down a list of potential areas based on their location preferences in their home city.\n",
    "\n",
    "In most cases, customers are not familiar enough with the city they are moving to, making the process of finding the new living location a time consuming and stressful activity.\n",
    "\n",
    "This process can be greatly facilitated by customers' knowledge of their home city and its areas. By identifying what area(s) in their home city the new location should resemble, the cluster analysis can narrows down the list of the areas to consider to a few that the customer should further research/visit before making final decision.\n",
    "\n",
    "For example, a customer wants to find areas of London that are similar to the neighborhood of Midtown in Manhattan where he/she currently live. Cluster analysis would result in a rather short list of London districts that most closely match Midtown.\n",
    "\n",
    "The use of the analysis would result in allowing finance professionals to relocate quickly and successfully while staying focused on their professional transition, and with reduced cost for business."
   ]
  }
 ],
 "metadata": {
  "kernelspec": {
   "display_name": "Python 3",
   "language": "python",
   "name": "python3"
  },
  "language_info": {
   "codemirror_mode": {
    "name": "ipython",
    "version": 3
   },
   "file_extension": ".py",
   "mimetype": "text/x-python",
   "name": "python",
   "nbconvert_exporter": "python",
   "pygments_lexer": "ipython3",
   "version": "3.6.5"
  }
 },
 "nbformat": 4,
 "nbformat_minor": 2
}
